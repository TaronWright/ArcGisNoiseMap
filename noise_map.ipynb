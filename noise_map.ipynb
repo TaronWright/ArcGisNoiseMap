{
 "cells": [
  {
   "cell_type": "code",
   "execution_count": 108,
   "metadata": {},
   "outputs": [
    {
     "name": "stdout",
     "output_type": "stream",
     "text": [
      "53.369864\n",
      "53.36866\n",
      "53.343337\n",
      "53.390401\n",
      "53.346116\n",
      "53.319492\n",
      "53.323524\n",
      "53.370758\n",
      "53.379996\n",
      "53.340031\n",
      "53.346694\n",
      "53.357153\n",
      "53.331059\n",
      "53.323204\n",
      "53.390338\n",
      "53.357153\n",
      "53.3279804\n",
      "53.346665\n",
      "could not convert  to float\n",
      "53.369847\n",
      "53.3442389\n",
      "53.3680667\n",
      "53.3644417\n",
      "53.390281\n",
      "53.340148\n",
      "53.3362889\n",
      "53.3856444\n",
      "53.2857556\n",
      "53.2805333\n",
      "53.345707\n",
      "53.318902\n",
      "53.369894\n",
      "53.390433\n",
      "53.347863\n",
      "53.390542\n",
      "53.352988\n",
      "53.351671\n",
      "53.341938\n",
      "53.322029\n",
      "53.372904\n",
      "53.345053\n",
      "53.3699\n",
      "53.3687022\n",
      "53.33192\n",
      "53.357689\n",
      "53.343628\n",
      "53.318902\n",
      "53.369894\n",
      "53.322562\n",
      "53.390433\n",
      "53.356816\n",
      "53.333691\n",
      "53.337909\n"
     ]
    }
   ],
   "source": [
    "import requests\n",
    "import pandas as pd\n",
    "\n",
    "\n",
    "base_url = \"https://data.smartdublin.ie/sonitus-api\"\n",
    "realtime_url = \"/api/monitors\"\n",
    "api_url = base_url+realtime_url\n",
    "\n",
    "query = {\"username\": \"dublincityapi\", \n",
    "\"password\": \"Xpa5vAQ9ki\",\n",
    "\"monitor\": \"10.1.1.1\",\n",
    "\"start\":\"1681309601\",\n",
    "\"end\":\"1681396001\"}\n",
    "\n",
    "response = requests.post(api_url,json=query)\n",
    "\n",
    "data = response.json()\n",
    "for loc in data:\n",
    "    try:\n",
    "        print(float(loc['latitude']))\n",
    "    except ValueError:\n",
    "        print(\"could not convert\",loc['latitude'],\"to float\")\n"
   ]
  },
  {
   "cell_type": "code",
   "execution_count": 109,
   "metadata": {},
   "outputs": [],
   "source": [
    "data = [x for x in data if x['latitude']!=\"\"]\n",
    "data=  [x for x in data if ('Noise' in x['label']!=\"\")]"
   ]
  },
  {
   "cell_type": "code",
   "execution_count": 110,
   "metadata": {},
   "outputs": [],
   "source": [
    "from arcgis.gis import GIS\n",
    "from arcgis.geometry import Point\n",
    "from arcgis.features import FeatureLayer, FeatureSet\n",
    "from arcgis.widgets import MapView\n",
    "\n",
    "gis = GIS(api_key = \"AAPKa873723e22cb4fbea914d35e64d85b84B4qitV1d04kTbB_ZH7VcVDaG46maiKVNzixqfPpMUkZQjN58IkvTtoc9Un0_HPeR\")\n",
    "map1 = gis.map(\"Dublin\", zoomlevel=12)\n"
   ]
  },
  {
   "cell_type": "code",
   "execution_count": 111,
   "metadata": {},
   "outputs": [
    {
     "data": {
      "text/plain": [
       "{'wkid': 4326}"
      ]
     },
     "execution_count": 111,
     "metadata": {},
     "output_type": "execute_result"
    }
   ],
   "source": [
    "# Define the coordinates of the locations to add to the map\n",
    "sp_ref = \"wkid\"\n",
    "sp_ref_no = 4326\n"
   ]
  },
  {
   "cell_type": "code",
   "execution_count": 112,
   "metadata": {},
   "outputs": [
    {
     "name": "stdout",
     "output_type": "stream",
     "text": [
      "<class 'int'>\n",
      "<class 'int'>\n",
      "<class 'float'>\n",
      "<class 'float'>\n",
      "<class 'float'>\n",
      "<class 'float'>\n",
      "<class 'float'>\n",
      "<class 'float'>\n",
      "<class 'float'>\n",
      "<class 'float'>\n",
      "<class 'float'>\n",
      "<class 'float'>\n",
      "<class 'float'>\n",
      "{\"features\": [{\"geometry\": {\"x\": -6.258966, \"y\": 53.369864, \"spatialReference\": {\"wkid\": 4326}}, \"attributes\": {\"Name\": \"Drumcondra Library\", \"serialnumber\": \"10.1.1.1\", \"Laeq\": 50.0, \"OBJECTID\": 1}}, {\"geometry\": {\"x\": -6.149316, \"y\": 53.36866, \"spatialReference\": {\"wkid\": 4326}}, \"attributes\": {\"Name\": \"Bull Island\", \"serialnumber\": \"01749\", \"Laeq\": 57.0, \"OBJECTID\": 2}}, {\"geometry\": {\"x\": -6.264755, \"y\": 53.390401, \"spatialReference\": {\"wkid\": 4326}}, \"attributes\": {\"Name\": \"Ballymun\", \"serialnumber\": \"10118\", \"Laeq\": 59.4, \"OBJECTID\": 3}}, {\"geometry\": {\"x\": -6.321013, \"y\": 53.346116, \"spatialReference\": {\"wkid\": 4326}}, \"attributes\": {\"Name\": \"DCC Rowing Club\", \"serialnumber\": \"01548\", \"Laeq\": 52.4, \"OBJECTID\": 4}}, {\"geometry\": {\"x\": -6.321945, \"y\": 53.319492, \"spatialReference\": {\"wkid\": 4326}}, \"attributes\": {\"Name\": \"Walkinstown\", \"serialnumber\": \"10115\", \"Laeq\": 49.3, \"OBJECTID\": 5}}, {\"geometry\": {\"x\": -6.247734, \"y\": 53.323524, \"spatialReference\": {\"wkid\": 4326}}, \"attributes\": {\"Name\": \"Woodstock Gardens\", \"serialnumber\": \"10.1.1.7\", \"Laeq\": 42.1, \"OBJECTID\": 6}}, {\"geometry\": {\"x\": -6.325578, \"y\": 53.370758, \"spatialReference\": {\"wkid\": 4326}}, \"attributes\": {\"Name\": \"Navan Road \", \"serialnumber\": \"10.1.1.8\", \"Laeq\": 52.4, \"OBJECTID\": 7}}, {\"geometry\": {\"x\": -6.172829, \"y\": 53.379996, \"spatialReference\": {\"wkid\": 4326}}, \"attributes\": {\"Name\": \"Raheny\", \"serialnumber\": \"01575\", \"Laeq\": 49.8, \"OBJECTID\": 8}}, {\"geometry\": {\"x\": -6.2200231, \"y\": 53.340031, \"spatialReference\": {\"wkid\": 4326}}, \"attributes\": {\"Name\": \"Ringsend Sports Centre\", \"serialnumber\": \"01737\", \"Laeq\": 43.6, \"OBJECTID\": 9}}, {\"geometry\": {\"x\": -6.270895, \"y\": 53.357153, \"spatialReference\": {\"wkid\": 4326}}, \"attributes\": {\"Name\": \"Blessington Basin\", \"serialnumber\": \"10.1.1.12\", \"Laeq\": 45.6, \"OBJECTID\": 10}}, {\"geometry\": {\"x\": -6.292452, \"y\": 53.331059, \"spatialReference\": {\"wkid\": 4326}}, \"attributes\": {\"Name\": \"Dolphins Barn\", \"serialnumber\": \"01550\", \"Laeq\": 51.4, \"OBJECTID\": 11}}, {\"geometry\": {\"x\": -6.303911, \"y\": 53.390338, \"spatialReference\": {\"wkid\": 4326}}, \"attributes\": {\"Name\": \"Mellows Park\", \"serialnumber\": \"01549\", \"Laeq\": 51.8, \"OBJECTID\": 12}}, {\"geometry\": {\"x\": -6.2088104, \"y\": 53.3279804, \"spatialReference\": {\"wkid\": 4326}}, \"attributes\": {\"Name\": \"Strand Road\", \"serialnumber\": \"01509\", \"Laeq\": 66.4, \"OBJECTID\": 13}}], \"objectIdFieldName\": \"OBJECTID\", \"spatialReference\": {\"wkid\": 4326}, \"geometryType\": \"esriGeometryPoint\", \"fields\": [{\"name\": \"Name\", \"alias\": \"Name\", \"type\": \"esriFieldTypeString\", \"sqlType\": \"sqlTypeOther\"}, {\"name\": \"serialnumber\", \"alias\": \"serialnumber\", \"type\": \"esriFieldTypeString\", \"sqlType\": \"sqlTypeOther\"}, {\"name\": \"Laeq\", \"alias\": \"Laeq\", \"type\": \"esriFieldTypeDouble\", \"sqlType\": \"sqlTypeOther\"}, {\"name\": \"OBJECTID\", \"type\": \"esriFieldTypeOID\", \"alias\": \"OBJECTID\", \"sqlType\": \"sqlTypeOther\"}]}\n"
     ]
    }
   ],
   "source": [
    "#API query \n",
    "base_url = \"https://data.smartdublin.ie/sonitus-api\"\n",
    "hourly_averages = \"/api/hourly-averages\"\n",
    "api_url = base_url+hourly_averages\n",
    "            \n",
    "# Create a FeatureSet with the location data\n",
    "features = []\n",
    "for loc in data: \n",
    "    query = {\"username\": \"dublincityapi\", \n",
    "    \"password\": \"Xpa5vAQ9ki\",\n",
    "    \"monitor\": loc['serial_number'],\n",
    "    \"start\":\"1641081600\",\n",
    "    \"end\":\"1641081600\"}\n",
    "    response = requests.post(api_url, query)\n",
    "    r = response.json()\n",
    "    if len(r) > 0:\n",
    "        try:\n",
    "            point = Point({\"x\":float(loc['longitude']), \"y\": float(loc['latitude']), \"spatialReference\":{sp_ref:sp_ref_no}})\n",
    "        except ValueError:\n",
    "            point = Point({\"x\":loc['longitude'], \"y\": loc['latitude'], \"spatialReference\":{sp_ref:sp_ref_no}})\n",
    "        feature = {\"attributes\": {\"Name\": loc[\"location\"],  \"serialnumber\":loc['serial_number'], \"Laeq\": float(r[0]['laeq'])}, \"geometry\": point}\n",
    "        features.append(feature)\n",
    "        \n",
    "feature_set = FeatureSet.from_dict({\"features\": features, \"geometryType\": \"esriGeometryPoint\", \"spatialReference\": {sp_ref:sp_ref_no}})\n",
    "\n",
    "# Create a FeatureLayer from the FeatureSet\n",
    "layer = FeatureLayer(feature_set, gis=gis)\n",
    "\n",
    "# Print the URL of the new Feature Layer\n",
    "layer.url\n"
   ]
  },
  {
   "cell_type": "code",
   "execution_count": 114,
   "metadata": {},
   "outputs": [
    {
     "data": {
      "text/plain": [
       "' map1.add_layer(layer.url, {\"renderer\":\"HeatmapRenderer\", \"field_name\": \"Laeq\", \"opacity\":0.95 })\\nmap1 '"
      ]
     },
     "execution_count": 114,
     "metadata": {},
     "output_type": "execute_result"
    }
   ],
   "source": [
    "\"\"\" map1.add_layer(layer.url, {\"renderer\":\"HeatmapRenderer\", \"field_name\": \"Laeq\", \"opacity\":0.95 })\"\"\""
   ]
  },
  {
   "cell_type": "code",
   "execution_count": 115,
   "metadata": {},
   "outputs": [
    {
     "data": {
      "text/plain": [
       "True"
      ]
     },
     "execution_count": 115,
     "metadata": {},
     "output_type": "execute_result"
    }
   ],
   "source": [
    "import matplotlib.pyplot as plt\n",
    "from arcgis.features import GeoAccessor, GeoSeriesAccessor\n",
    "sdf = feature_set.sdf\n",
    "sdf.spatial.plot(map_widget=map1, renderer_type = \"p\")"
   ]
  },
  {
   "cell_type": "code",
   "execution_count": 116,
   "metadata": {},
   "outputs": [
    {
     "data": {
      "application/vnd.jupyter.widget-view+json": {
       "model_id": "a7d709ecb89f48bab9707c3bcb16b58d",
       "version_major": 2,
       "version_minor": 0
      },
      "text/plain": [
       "MapView(layout=Layout(height='400px', width='100%'))"
      ]
     },
     "metadata": {},
     "output_type": "display_data"
    },
    {
     "data": {
      "text/html": [
       "<div class=\"map-static-img-preview-5530ce1f-015b-4772-9d6b-1bdc473c4e54\"><img src=\"\"></img></div>"
      ],
      "text/plain": [
       "<IPython.core.display.HTML object>"
      ]
     },
     "metadata": {},
     "output_type": "display_data"
    },
    {
     "data": {
      "text/html": [
       "<div class=\"map-html-embed-preview-5530ce1f-015b-4772-9d6b-1bdc473c4e54\"></div>"
      ],
      "text/plain": [
       "<IPython.core.display.HTML object>"
      ]
     },
     "metadata": {},
     "output_type": "display_data"
    }
   ],
   "source": [
    "map1"
   ]
  }
 ],
 "metadata": {
  "kernelspec": {
   "display_name": "base",
   "language": "python",
   "name": "python3"
  },
  "language_info": {
   "codemirror_mode": {
    "name": "ipython",
    "version": 3
   },
   "file_extension": ".py",
   "mimetype": "text/x-python",
   "name": "python",
   "nbconvert_exporter": "python",
   "pygments_lexer": "ipython3",
   "version": "3.7.11"
  },
  "orig_nbformat": 4
 },
 "nbformat": 4,
 "nbformat_minor": 2
}
